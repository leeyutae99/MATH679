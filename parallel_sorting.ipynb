{
 "cells": [
  {
   "cell_type": "markdown",
   "metadata": {},
   "source": [
    "# Project"
   ]
  },
  {
   "cell_type": "code",
   "execution_count": 1,
   "metadata": {},
   "outputs": [],
   "source": [
    "student_name = 'Yutae Lee'"
   ]
  },
  {
   "cell_type": "markdown",
   "metadata": {},
   "source": [
    "# Overview\n",
    "\n",
    "In this project you will implement a both a serial version of mergesort as well as a parallel version of mergesort.  There are many variations of this algorithm and for this project we will use a simplified data parallel approach with the following assumptions:\n",
    "1. The data is to be sorted from small to large.\n",
    "1. The data may contain duplicates.\n",
    "1. The data to be sorted fits easily in main memory.\n",
    "1. The system used contains one or more multi-core CPU's.\n",
    "1. The parallel version of merge sort will use the serial version of mergesort within each process.\n",
    "\n",
    "\n",
    "## MergeSort\n",
    "\n",
    "Merge sort is a divide and conquer sorting algorithm originally created by John von Neumann in 1945.  The algorithm basically divides the input list into $n$ sublists, where each sublist contains only a single element (and is thus sorted).  The algorithm then merges each of these sublists, typically pairwise, forming larger sorted sublists, and repeats this process until only one sorted list remains.  See [Wikipedia](https://en.wikipedia.org/wiki/Merge_sort).\n",
    "\n",
    "\n",
    "## Algorithm Overview\n",
    "\n",
    "In general the mergesort algorithm performs the following operations:\n",
    "\n",
    "- Divide the input list into $n$ sublists, each containing a single element.  \n",
    "- Repeat until only one list remains\n",
    "    - Take sublists, pairwise, and merge them by greedily taking the smallest element from either sublist first.\n",
    "\n",
    "The above algorithm can be broken up into two functions:\n",
    "1. A recursive mergesort function that breaks its input into two equally sized lists and calls itself twice, passing half of the input data to each call.\n",
    "1. A merge function that receives two sorted sublists as input and merges them into a single sorted list.\n",
    "\n",
    "The following two subsections give a brief description of a possible implementation.  \n",
    "\n",
    "**Note:** For the serial implementation you will need to write two functions, one for mergesort and another for merge as these functions will be reused in your parallel implementation.\n",
    "\n",
    "### MergeSort\n",
    "\n",
    "- Divide the input list into two sublists, roughly equal in length.\n",
    "- Recursively call mergesort on each sublist, stopping the recursion when the input sublist contains only a single element.\n",
    "- Merge the two sorted sublists returned by the recursion.\n",
    "\n",
    "### Merge\n",
    "\n",
    "- Given two input lists (both of which are assumed to be sorted).\n",
    "- Create *pointers* (e.g. indices) that keep track of the current element in each list.  Initialize both pointers to the first element of each list.\n",
    "- Compare the values of the current element in both lists.  \n",
    "- Copy the smaller of the two to an output list.\n",
    "- Move the pointer corresponding to the smaller value, which was copied to the output list, to the next element in that list.\n",
    "- Once one of the lists has been exhausted, copy any remaining elements from the other list to the output list.\n",
    "- Return the output list (this should be a new list containing all elements in sorted order from the two sorted input lists).\n",
    "\n",
    "\n",
    "\n",
    "## Parallel Algorithm Overview\n",
    "\n",
    "For this project we will take a data parallel approach to mergesort, in which we will partition the unsorted input list into $n$ *equally* sized sublists and then use $n$ processes to sort the sublists in parallel.  Once each sublist has been sorted we will use a parallel merge that uses our processes to pairwise merge the sorted sublists until only one list remains, which should contain the sorted version of the original input list.  This implmentation does not need to be in-place, that is you may return a sorted copy of the input data.\n",
    "\n",
    "**Note:** For this portion of the project you may optionally break the partitioning and merging steps into two functions (similar to the method prescribed above in the serial section), or simply implement the parallel mergesort as a single function.  \n",
    "\n",
    "\n",
    "### Parallel MergeSort\n",
    "\n",
    "- Partition the input list into $n$ *equally* sized partitions, where $n$ is the number of processes we wish to use (passed as an argument). \n",
    "- Create $n$ processes (**not threads**) and use your implementation of the `merge_sort` function to process one of the partitions. That is, each process should handle only one of the $n$ sublists.  If you like, you may use `multiprocessing.Pool` and `Pool.map` in your implementation. \n",
    "- Once the above has completed you should have $n$ sorted sublists of the original input list.\n",
    "- Perform a parallel merge on the $n$ sorted sublist.\n",
    "- Return the resulting sorted list.\n",
    "\n",
    "\n",
    "### Parallel Merge\n",
    "\n",
    "- Given $n$ sorted sublists.\n",
    "- Iterate until only a single sorted list remains:\n",
    "    - Create (or reuse) $\\frac{m}{2}$ processes (initially $m=n$, but $m$ should decrease each iteration) and use your implementation of the `merge` function to pairwise merge the sorted sublists.  That is each process should use your `merge` function to merge two of the sorted sublists.\n",
    "    - This should result in half as many sorted sublists.\n",
    "    - Take care to handle the case when there are an odd number of sublists.  For instance remove the odd element from consideration during this iteration and add it back for the next iteration.\n",
    "- Return the resulting sorted list.\n"
   ]
  },
  {
   "cell_type": "markdown",
   "metadata": {},
   "source": [
    "# Instructions\n",
    "\n",
    "In this project you will implement both serial and parallel versions of merge sort.  Due to a bug in multiprocessing some windows users may have issues using the regular notebook to complete their project.  As such windows users are encourage to use the 'parallel_sorting_winbug' notebook, in which the implementation will actually be written in 'parallel_winbug.py' and imported in the imports section below."
   ]
  },
  {
   "cell_type": "markdown",
   "metadata": {},
   "source": [
    "## Submitting Your Assignment\n",
    "\n",
    "You will submit your completed assignment in two formats:\n",
    "\n",
    "- Jupyter Notebook (.ipynb)\n",
    "- HTML (.html)\n",
    "\n",
    "##### Jupyter Notebook (.ipynb)\n",
    "You may directly use this notebook to complete your assignment or you may use an external editor/IDE of your choice.  However, to submit your code please ensure that your code works in this notebook.  \n",
    "  \n",
    "##### HTML (.html)\n",
    "To create an HTML file for your assignment simply select `File > Download as > HTML (.html)` from within the Jupyter Notebook.  \n",
    "  \n",
    "Both files should be uploaded to [Canvas](https://canvas.tamu.edu)."
   ]
  },
  {
   "cell_type": "markdown",
   "metadata": {},
   "source": [
    "## Imports"
   ]
  },
  {
   "cell_type": "code",
   "execution_count": 2,
   "metadata": {},
   "outputs": [],
   "source": [
    "import math\n",
    "import random\n",
    "import time\n",
    "import multiprocessing as mp\n",
    "\n",
    "# Specifies the method to be used for creating processes\n",
    "import sys\n",
    "if sys.platform.startswith(\"linux\"):  # linux\n",
    "    mp.set_start_method('fork', force=True)\n",
    "elif sys.platform.startswith(\"darwin\"): # mac\n",
    "    mp.set_start_method('fork', force=True)\n",
    "else: # Assume Windows\n",
    "    mp.set_start_method('spawn', force=True) "
   ]
  },
  {
   "cell_type": "markdown",
   "metadata": {},
   "source": [
    "## MergeSort\n",
    "\n",
    "The implementation of merge_sort below is a top down approach that recursively divides the input into sublists of size 1.  Following that the sublists are merged such that the resuliting larger sublist remains sorted.  This implementation also modifies the input in-place and assumes that the input is indexable, like a list."
   ]
  },
  {
   "cell_type": "markdown",
   "metadata": {},
   "source": [
    "## Solution (1)\n",
    "\n",
    "Complete the `merge` function below.  "
   ]
  },
  {
   "cell_type": "code",
   "execution_count": 3,
   "metadata": {},
   "outputs": [],
   "source": [
    "def merge(data_tup):\n",
    "    \"\"\"\n",
    "    Merges two sorted input lists into a single sorted list.  \n",
    "    The sorted list returned contains a copy of the elements.\n",
    "    \n",
    "    data_tup: A tuple containing two sorted lists that are to \n",
    "              be merged, e.g. a,b = data_tup.  \n",
    "    Returns a single sorted list containing a copy of all the \n",
    "    elements found in the two lists contained in data_tup.\n",
    "    \"\"\"\n",
    "    arrayLeft, arrayRight = data_tup\n",
    "    mergedArray = []\n",
    "    left_idx, right_idx = 0, 0\n",
    "    while left_idx < len(arrayLeft) and right_idx < len(arrayRight):\n",
    "        if arrayLeft[left_idx] <= arrayRight[right_idx]:\n",
    "            mergedArray.append(arrayLeft[left_idx])\n",
    "            left_idx += 1\n",
    "        else:\n",
    "            mergedArray.append(arrayRight[right_idx])\n",
    "            right_idx += 1\n",
    "        \n",
    "    if left_idx < len(arrayLeft):\n",
    "        mergedArray.extend(arrayLeft[left_idx:])\n",
    "    if right_idx < len(arrayRight):\n",
    "        mergedArray.extend(arrayRight[right_idx:])\n",
    "    return mergedArray"
   ]
  },
  {
   "cell_type": "markdown",
   "metadata": {},
   "source": [
    "## Solution (2)\n",
    "\n",
    "Complete the `merge_sort` function below.  "
   ]
  },
  {
   "cell_type": "code",
   "execution_count": 4,
   "metadata": {},
   "outputs": [],
   "source": [
    "def merge_sort(data):\n",
    "    \"\"\"\n",
    "    Recursively sorts the passed data list in ascending order.\n",
    "    \n",
    "    data: A list containing values to be sorted.\n",
    "    \n",
    "    Returns a single sorted list containing a copy of all the \n",
    "    elements found in the input data.\n",
    "    \"\"\"\n",
    "    if len(data) <= 1:\n",
    "        return data\n",
    "    \n",
    "    middle = len(data) // 2\n",
    "    left = data[:middle]\n",
    "    right = data[middle:]\n",
    "\n",
    "    left = merge_sort(left)\n",
    "    right = merge_sort(right)\n",
    "    \n",
    "    data_tup = left, right\n",
    "    \n",
    "    return merge(data_tup)\n"
   ]
  },
  {
   "cell_type": "markdown",
   "metadata": {},
   "source": [
    "## Test Code (Sanity Check)\n",
    "\n",
    "After completing the `merge` and `merge_sort` functions run the following code block to check if your functions produce a sorted list for a randomly generated list of `n` elements.  Even if your functions pass this test, bugs still may exist.  You should write your own test functions and verify your implementations."
   ]
  },
  {
   "cell_type": "code",
   "execution_count": 5,
   "metadata": {},
   "outputs": [
    {
     "name": "stdout",
     "output_type": "stream",
     "text": [
      "merge_sort passed sort test\n"
     ]
    }
   ],
   "source": [
    "def is_sorted(elements):\n",
    "    \"\"\"\n",
    "    Returns true if elements are in sorted order\n",
    "    \"\"\"\n",
    "    return elements == sorted(elements)\n",
    "\n",
    "# Create some random test data\n",
    "size = 100\n",
    "data = random.sample(range(1000), size)\n",
    "sorted_data = merge_sort(data)\n",
    "\n",
    "if is_sorted(sorted_data):\n",
    "    print('merge_sort passed sort test')\n",
    "else:\n",
    "    print('merge_sort failed sort test')\n",
    "    print(sorted_data)\n"
   ]
  },
  {
   "cell_type": "markdown",
   "metadata": {},
   "source": [
    "## Solution (3)\n",
    "\n",
    "Complete the `merge_sort_parallel` function below. "
   ]
  },
  {
   "cell_type": "code",
   "execution_count": 6,
   "metadata": {},
   "outputs": [],
   "source": [
    "from multiprocessing import Pool\n",
    "\n",
    "def merge_sort_parallel(data, num_processes=None):\n",
    "    \"\"\"\n",
    "    Data parallel implementation of mergesort.  Sorts the \n",
    "    passed data list (in ascending order) in parallel using \n",
    "    several processes.  Each process first sorts a portion \n",
    "    of the input data, then merges pairwise the sorted sublists\n",
    "    until a single sorted list remains.\n",
    "    \n",
    "    data: A list containing values to be sorted.\n",
    "    num_processes: The number of processes to be created and used\n",
    "                   to partition and sort the data.  By default \n",
    "                   this value is mp.cpu_count() // 2 \n",
    "    \n",
    "    Returns a single sorted list containing a copy of all the \n",
    "    elements found in the input data.    \n",
    "    \"\"\"\n",
    "    if num_processes is None:\n",
    "        num_processes = mp.cpu_count()//2\n",
    "    size_chunks = len(data)//num_processes\n",
    "    chunk_list = [data[i:i+size_chunks] for i in range(0, len(data), size_chunks)]\n",
    "    pool = Pool(processes = num_processes)\n",
    "    sorted_sublists = pool.map(merge_sort, chunk_list)\n",
    "    \n",
    "    while len(sorted_sublists) > 1:\n",
    "        chunk_list = [(sorted_sublists[i], sorted_sublists[i+1]) for i in range(0, len(sorted_sublists)-1, 2)]\n",
    "        sorted_sublists = mpool.map(merge, chunk_list)\n",
    "    \n",
    "    return sorted_sublists[0]"
   ]
  },
  {
   "cell_type": "markdown",
   "metadata": {},
   "source": [
    "## Test Code (Time Comparison)\n",
    "\n",
    "After completing the `merge_sort` and `merge_sort_parallel` functions run the following code blocks to compare the runtime performance of your implementations.  Note that these code blocks simply time your code, it does not test or verify that the output of your functions is correct.\n"
   ]
  },
  {
   "cell_type": "code",
   "execution_count": null,
   "metadata": {},
   "outputs": [
    {
     "name": "stdout",
     "output_type": "stream",
     "text": [
      "This system contains 8 cores, or half this many if hyperthreading is supported\n",
      "This test used the default number of processes, which should be 4\n",
      "merge_sort 7.395313739776611 True\n"
     ]
    }
   ],
   "source": [
    "print('This system contains', mp.cpu_count(), 'cores, or half this many if hyperthreading is supported')\n",
    "print('This test used the default number of processes, which should be', mp.cpu_count() // 2)\n",
    "size = 1000000\n",
    "data = [random.randint(0, size) for _ in range(size)]\n",
    "\n",
    "for sort in [merge_sort, merge_sort_parallel]:\n",
    "    start = time.time()\n",
    "    sorted_data = sort(data)\n",
    "    duration = time.time() - start\n",
    "    print(sort.__name__, duration, is_sorted(sorted_data))"
   ]
  },
  {
   "cell_type": "markdown",
   "metadata": {},
   "source": [
    "## Solution (4)\n",
    "\n",
    "\n",
    "If the above had been implemented using Python Threads how would you expect the parallel speed up to be affected?  Should this be more or less than the process-based implementation above?  Why?  For this you should assume the same algorithm is used for both threads and processes."
   ]
  },
  {
   "cell_type": "markdown",
   "metadata": {},
   "source": []
  },
  {
   "cell_type": "markdown",
   "metadata": {},
   "source": [
    "In terms of speed Python Threads should speed up the parallel. And compared to the process-based implementation it should be taking less time. The reason behind is because in the case of thread it shares the same memory within threads, so it takes less memory that needs to copied unlike processing."
   ]
  }
 ],
 "metadata": {
  "kernelspec": {
   "display_name": "Python 3 (ipykernel)",
   "language": "python",
   "name": "python3"
  },
  "language_info": {
   "codemirror_mode": {
    "name": "ipython",
    "version": 3
   },
   "file_extension": ".py",
   "mimetype": "text/x-python",
   "name": "python",
   "nbconvert_exporter": "python",
   "pygments_lexer": "ipython3",
   "version": "3.8.11"
  }
 },
 "nbformat": 4,
 "nbformat_minor": 4
}
